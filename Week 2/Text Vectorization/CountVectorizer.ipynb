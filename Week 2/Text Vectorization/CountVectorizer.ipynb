{
 "cells": [
  {
   "cell_type": "markdown",
   "id": "3d6af909",
   "metadata": {},
   "source": [
    "CountVectorizer is a great tool provided by the `scikit-learn library` in Python. It uses the concept of [Bag of Words](Text_Vectorization.md). It is used to transform a given text into a vector on the basis of the frequency (count) of each word that occurs in the entire text. This is helpful when we have multiple such texts, and we wish to convert each word in each text into vectors (for using in further text analysis)."
   ]
  },
  {
   "cell_type": "code",
   "execution_count": null,
   "id": "81110320",
   "metadata": {},
   "outputs": [
    {
     "name": "stdout",
     "output_type": "stream",
     "text": [
      "Vocabulary: {'the': 33, 'quick': 29, 'brown': 1, 'fox': 10, 'jumps': 16, 'over': 25, 'lazy': 18, 'dog': 8, 'python': 28, 'is': 15, 'great': 11, 'programming': 27, 'language': 17, 'for': 9, 'machine': 20, 'learning': 19, 'countvectorizer': 6, 'converts': 4, 'text': 32, 'into': 14, 'matrix': 21, 'of': 24, 'token': 34, 'counts': 5, 'natural': 23, 'processing': 26, 'helps': 12, 'computers': 3, 'understand': 35, 'human': 13, 'models': 22, 'require': 30, 'clean': 2, 'and': 0, 'structured': 31, 'data': 7}\n",
      "Encoded Document:\n",
      " [[0 1 0 0 0 0 0 0 1 0 1 0 0 0 0 0 1 0 1 0 0 0 0 0 0 1 0 0 0 1 0 0 0 2 0 0]\n",
      " [0 0 0 0 0 0 0 0 0 1 0 1 0 0 0 1 0 1 0 1 1 0 0 0 0 0 0 1 1 0 0 0 0 0 0 0]\n",
      " [0 0 0 0 1 1 1 0 0 0 0 0 0 0 1 0 0 0 0 0 0 1 0 0 1 0 0 0 0 0 0 0 1 0 1 0]\n",
      " [0 0 0 1 0 0 0 0 0 0 0 0 1 1 0 0 0 2 0 0 0 0 0 1 0 0 1 0 0 0 0 0 0 0 0 1]\n",
      " [1 0 1 0 0 0 0 1 0 0 0 0 0 0 0 0 0 0 0 1 1 0 1 0 0 0 0 0 0 0 1 1 0 0 0 0]]\n"
     ]
    }
   ],
   "source": [
    "from sklearn.feature_extraction.text import CountVectorizer\n",
    "\n",
    "document = [\n",
    "    \"The quick brown fox jumps over the lazy dog.\",\n",
    "    \"Python is a great programming language for machine learning.\",\n",
    "    \"CountVectorizer converts text into a matrix of token counts.\",\n",
    "    \"Natural language processing helps computers understand human language.\",\n",
    "    \"Machine learning models require clean and structured data.\"\n",
    "]\n",
    "\n",
    "# Create a Vectorizer Object\n",
    "vectorizer = CountVectorizer()\n",
    "\n",
    "vectorizer.fit(document)\n",
    "\n",
    "# Printing the identified Unique words along with their indices\n",
    "print(\"Vocabulary:\", vectorizer.vocabulary_)\n",
    "\n",
    "# Encode the Document\n",
    "vector = vectorizer.transform(document)\n",
    "\n",
    "# Summarizing the Encoded Texts\n",
    "print(\"Encoded Document:\\n\", vector.toarray())"
   ]
  },
  {
   "cell_type": "code",
   "execution_count": 2,
   "id": "20ab304a",
   "metadata": {},
   "outputs": [
    {
     "name": "stdout",
     "output_type": "stream",
     "text": [
      "Vocabulary with min_df and max_df: {'language': 0, 'machine': 2, 'learning': 1}\n",
      "Encoded Document with min_df and max_df:\n",
      " [[0 0 0]\n",
      " [1 1 1]\n",
      " [0 0 0]\n",
      " [2 0 0]\n",
      " [0 1 1]]\n"
     ]
    }
   ],
   "source": [
    "# CountVectorizer with min_df and max_df\n",
    "vectorizer = CountVectorizer(min_df=2, max_df=0.8) # min_df=2 means words that appear in at least 2 documents will be considered\n",
    "# max_df=0.8 means words that appear in more than 80% of the documents will be ignored\n",
    "\n",
    "vectorizer.fit(document)\n",
    "\n",
    "print(\"Vocabulary with min_df and max_df:\", vectorizer.vocabulary_)\n",
    "\n",
    "vector = vectorizer.transform(document)\n",
    "\n",
    "print(\"Encoded Document with min_df and max_df:\\n\", vector.toarray())"
   ]
  }
 ],
 "metadata": {
  "kernelspec": {
   "display_name": "hf_env311",
   "language": "python",
   "name": "python3"
  },
  "language_info": {
   "codemirror_mode": {
    "name": "ipython",
    "version": 3
   },
   "file_extension": ".py",
   "mimetype": "text/x-python",
   "name": "python",
   "nbconvert_exporter": "python",
   "pygments_lexer": "ipython3",
   "version": "3.11.0"
  }
 },
 "nbformat": 4,
 "nbformat_minor": 5
}
