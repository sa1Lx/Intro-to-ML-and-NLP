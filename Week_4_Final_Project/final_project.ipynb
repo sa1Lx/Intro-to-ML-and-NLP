{
 "cells": [
  {
   "cell_type": "markdown",
   "id": "f861bf16",
   "metadata": {},
   "source": [
    "This file contains the training code for the model. For the implementation using `streamlit`, please refer to the file [streamlit_nwp.py](streamlit_nwp.py). For without `streamlit`, refer to the file [nwp.ipynb](nwp.ipynb). Evaluation has been implemented in the file [evaluation.ipynb](evaluation.ipynb).\n",
    "\n",
    "NOTE: Trained model has been saved locally and hence unable to share the model weights. You can run the code in this file to train the model on your local machine."
   ]
  },
  {
   "cell_type": "code",
   "execution_count": 2,
   "id": "13f4f958",
   "metadata": {},
   "outputs": [
    {
     "name": "stdout",
     "output_type": "stream",
     "text": [
      "True\n",
      "NVIDIA GeForce RTX 3050 Laptop GPU\n",
      "Model moved to CUDA successfully.\n",
      "487.46875\n",
      "542.0\n"
     ]
    }
   ],
   "source": [
    "import torch\n",
    "print(torch.cuda.is_available())\n",
    "print(torch.cuda.get_device_name(0))\n",
    "model.to(\"cuda\") # Model loaded below first\n",
    "print(\"Model moved to CUDA successfully.\")\n",
    "print(torch.cuda.memory_allocated(0) / (1024 ** 2))\n",
    "print(torch.cuda.memory_reserved(0) / (1024 ** 2))"
   ]
  },
  {
   "cell_type": "code",
   "execution_count": null,
   "id": "dc2079bb",
   "metadata": {},
   "outputs": [],
   "source": [
    "import torch\n",
    "\n",
    "torch.cuda.empty_cache()"
   ]
  },
  {
   "cell_type": "code",
   "execution_count": 3,
   "id": "d90c2451",
   "metadata": {},
   "outputs": [],
   "source": [
    "from datasets import load_dataset_builder\n",
    "ds_builder = load_dataset_builder(\"wikitext\", \"wikitext-2-v1\")"
   ]
  },
  {
   "cell_type": "code",
   "execution_count": 4,
   "id": "6534a233",
   "metadata": {},
   "outputs": [
    {
     "name": "stdout",
     "output_type": "stream",
     "text": [
      "Total dataset size: ~12.71 MB\n",
      "Dataset description: \n",
      "\n",
      "Features:\n",
      " {'text': Value(dtype='string', id=None)}\n",
      "\n",
      "Splits:\n",
      " ['test', 'train', 'validation']\n"
     ]
    }
   ],
   "source": [
    "total_size = sum(split.num_bytes for split in ds_builder.info.splits.values()) / (1024 ** 2)\n",
    "print(f\"Total dataset size: ~{total_size:.2f} MB\")\n",
    "print(\"Dataset description:\", ds_builder.info.description)\n",
    "print(\"\\nFeatures:\\n\", ds_builder.info.features)\n",
    "print(\"\\nSplits:\\n\", list(ds_builder.info.splits.keys()))\n"
   ]
  },
  {
   "cell_type": "code",
   "execution_count": 5,
   "id": "36059f0e",
   "metadata": {},
   "outputs": [],
   "source": [
    "ds_builder.download_and_prepare()\n",
    "ds = ds_builder.as_dataset()"
   ]
  },
  {
   "cell_type": "code",
   "execution_count": null,
   "id": "d28e5f66",
   "metadata": {},
   "outputs": [],
   "source": [
    "from transformers import GPT2LMHeadModel, AutoTokenizer\n",
    "\n",
    "model = GPT2LMHeadModel.from_pretrained(\"openai-community/gpt2\")\n",
    "tokenizer = AutoTokenizer.from_pretrained(\"openai-community/gpt2\")"
   ]
  },
  {
   "cell_type": "code",
   "execution_count": null,
   "id": "d787575e",
   "metadata": {},
   "outputs": [],
   "source": [
    "tokenizer.pad_token = tokenizer.eos_token\n",
    "def tokenize(examples):\n",
    "    return tokenizer(examples[\"text\"], max_length=256, padding=\"max_length\", truncation=True)"
   ]
  },
  {
   "cell_type": "code",
   "execution_count": 12,
   "id": "85e6b5df",
   "metadata": {},
   "outputs": [],
   "source": [
    "tokenized_dataset = ds.map(tokenize, batched=True)"
   ]
  },
  {
   "cell_type": "code",
   "execution_count": 15,
   "id": "d06afba0",
   "metadata": {},
   "outputs": [
    {
     "name": "stderr",
     "output_type": "stream",
     "text": [
      "`loss_type=None` was set in the config but it is unrecognised.Using the default loss: `ForCausalLMLoss`.\n"
     ]
    },
    {
     "data": {
      "text/html": [
       "\n",
       "    <div>\n",
       "      \n",
       "      <progress value='2296' max='2296' style='width:300px; height:20px; vertical-align: middle;'></progress>\n",
       "      [2296/2296 1:06:42, Epoch 2/2]\n",
       "    </div>\n",
       "    <table border=\"1\" class=\"dataframe\">\n",
       "  <thead>\n",
       " <tr style=\"text-align: left;\">\n",
       "      <th>Epoch</th>\n",
       "      <th>Training Loss</th>\n",
       "      <th>Validation Loss</th>\n",
       "    </tr>\n",
       "  </thead>\n",
       "  <tbody>\n",
       "    <tr>\n",
       "      <td>1</td>\n",
       "      <td>3.101900</td>\n",
       "      <td>2.858625</td>\n",
       "    </tr>\n",
       "    <tr>\n",
       "      <td>2</td>\n",
       "      <td>2.898200</td>\n",
       "      <td>2.846905</td>\n",
       "    </tr>\n",
       "  </tbody>\n",
       "</table><p>"
      ],
      "text/plain": [
       "<IPython.core.display.HTML object>"
      ]
     },
     "metadata": {},
     "output_type": "display_data"
    },
    {
     "data": {
      "text/plain": [
       "TrainOutput(global_step=2296, training_loss=2.961827002335924, metrics={'train_runtime': 4004.4243, 'train_samples_per_second': 18.339, 'train_steps_per_second': 0.573, 'total_flos': 9594120830976000.0, 'train_loss': 2.961827002335924, 'epoch': 2.0})"
      ]
     },
     "execution_count": 15,
     "metadata": {},
     "output_type": "execute_result"
    }
   ],
   "source": [
    "from transformers import Trainer, TrainingArguments, DataCollatorForLanguageModeling\n",
    "\n",
    "data_collator = DataCollatorForLanguageModeling(\n",
    "    tokenizer=tokenizer, mlm=False\n",
    ")\n",
    "\n",
    "training_args = TrainingArguments(\n",
    "    output_dir=\"./NWP_final_results\",\n",
    "    eval_strategy=\"epoch\",\n",
    "    num_train_epochs=2,\n",
    "    per_device_train_batch_size=4,\n",
    "    gradient_accumulation_steps=8,\n",
    "    learning_rate=5e-5,\n",
    "    fp16=True,\n",
    ")\n",
    "\n",
    "trainer = Trainer(\n",
    "    model=model,\n",
    "    args=training_args,\n",
    "    train_dataset=tokenized_dataset[\"train\"],\n",
    "    eval_dataset=tokenized_dataset[\"validation\"],\n",
    "    data_collator=data_collator,\n",
    ")\n",
    "\n",
    "trainer.train()"
   ]
  },
  {
   "cell_type": "code",
   "execution_count": 16,
   "id": "10afe790",
   "metadata": {},
   "outputs": [
    {
     "data": {
      "text/plain": [
       "('./gpt2-finetuned-nwp-final\\\\tokenizer_config.json',\n",
       " './gpt2-finetuned-nwp-final\\\\special_tokens_map.json',\n",
       " './gpt2-finetuned-nwp-final\\\\vocab.json',\n",
       " './gpt2-finetuned-nwp-final\\\\merges.txt',\n",
       " './gpt2-finetuned-nwp-final\\\\added_tokens.json',\n",
       " './gpt2-finetuned-nwp-final\\\\tokenizer.json')"
      ]
     },
     "execution_count": 16,
     "metadata": {},
     "output_type": "execute_result"
    }
   ],
   "source": [
    "model.save_pretrained(\"./gpt2-finetuned-nwp-final\")\n",
    "tokenizer.save_pretrained(\"./gpt2-finetuned-nwp-final\")"
   ]
  }
 ],
 "metadata": {
  "kernelspec": {
   "display_name": "hf_env311",
   "language": "python",
   "name": "python3"
  },
  "language_info": {
   "codemirror_mode": {
    "name": "ipython",
    "version": 3
   },
   "file_extension": ".py",
   "mimetype": "text/x-python",
   "name": "python",
   "nbconvert_exporter": "python",
   "pygments_lexer": "ipython3",
   "version": "3.11.0"
  }
 },
 "nbformat": 4,
 "nbformat_minor": 5
}
