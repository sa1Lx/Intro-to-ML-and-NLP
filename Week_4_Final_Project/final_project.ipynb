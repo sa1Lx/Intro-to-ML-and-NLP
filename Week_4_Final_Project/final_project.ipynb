{
 "cells": [
  {
   "cell_type": "code",
   "execution_count": 2,
   "id": "13f4f958",
   "metadata": {},
   "outputs": [
    {
     "name": "stdout",
     "output_type": "stream",
     "text": [
      "True\n",
      "NVIDIA GeForce RTX 3050 Laptop GPU\n",
      "Model moved to CUDA successfully.\n",
      "487.46875\n",
      "542.0\n"
     ]
    }
   ],
   "source": [
    "import torch\n",
    "print(torch.cuda.is_available())\n",
    "print(torch.cuda.get_device_name(0))\n",
    "model.to(\"cuda\") # Model loaded below first\n",
    "print(\"Model moved to CUDA successfully.\")\n",
    "print(torch.cuda.memory_allocated(0) / (1024 ** 2))\n",
    "print(torch.cuda.memory_reserved(0) / (1024 ** 2))"
   ]
  },
  {
   "cell_type": "code",
   "execution_count": null,
   "id": "dc2079bb",
   "metadata": {},
   "outputs": [],
   "source": [
    "import torch\n",
    "\n",
    "torch.cuda.empty_cache()"
   ]
  },
  {
   "cell_type": "code",
   "execution_count": 3,
   "id": "d90c2451",
   "metadata": {},
   "outputs": [],
   "source": [
    "from datasets import load_dataset_builder\n",
    "ds_builder = load_dataset_builder(\"wikitext\", \"wikitext-2-v1\")"
   ]
  },
  {
   "cell_type": "code",
   "execution_count": 4,
   "id": "6534a233",
   "metadata": {},
   "outputs": [
    {
     "name": "stdout",
     "output_type": "stream",
     "text": [
      "Total dataset size: ~12.71 MB\n",
      "Dataset description: \n",
      "\n",
      "Features:\n",
      " {'text': Value(dtype='string', id=None)}\n",
      "\n",
      "Splits:\n",
      " ['test', 'train', 'validation']\n"
     ]
    }
   ],
   "source": [
    "total_size = sum(split.num_bytes for split in ds_builder.info.splits.values()) / (1024 ** 2)\n",
    "print(f\"Total dataset size: ~{total_size:.2f} MB\")\n",
    "print(\"Dataset description:\", ds_builder.info.description)\n",
    "print(\"\\nFeatures:\\n\", ds_builder.info.features)\n",
    "print(\"\\nSplits:\\n\", list(ds_builder.info.splits.keys()))\n"
   ]
  },
  {
   "cell_type": "code",
   "execution_count": 5,
   "id": "36059f0e",
   "metadata": {},
   "outputs": [],
   "source": [
    "ds_builder.download_and_prepare()\n",
    "ds = ds_builder.as_dataset()"
   ]
  },
  {
   "cell_type": "code",
   "execution_count": null,
   "id": "d28e5f66",
   "metadata": {},
   "outputs": [],
   "source": [
    "from transformers import GPT2LMHeadModel, AutoTokenizer\n",
    "\n",
    "model = GPT2LMHeadModel.from_pretrained(\"openai-community/gpt2\")\n",
    "tokenizer = AutoTokenizer.from_pretrained(\"openai-community/gpt2\")"
   ]
  },
  {
   "cell_type": "code",
   "execution_count": null,
   "id": "d787575e",
   "metadata": {},
   "outputs": [],
   "source": [
    "tokenizer.pad_token = tokenizer.eos_token\n",
    "def tokenize(examples):\n",
    "    return tokenizer(examples[\"text\"], max_length=256, padding=\"max_length\", truncation=True)"
   ]
  },
  {
   "cell_type": "code",
   "execution_count": 12,
   "id": "85e6b5df",
   "metadata": {},
   "outputs": [],
   "source": [
    "tokenized_dataset = ds.map(tokenize, batched=True)"
   ]
  },
  {
   "cell_type": "code",
   "execution_count": 15,
   "id": "d06afba0",
   "metadata": {},
   "outputs": [
    {
     "name": "stderr",
     "output_type": "stream",
     "text": [
      "`loss_type=None` was set in the config but it is unrecognised.Using the default loss: `ForCausalLMLoss`.\n"
     ]
    },
    {
     "data": {
      "text/html": [
       "\n",
       "    <div>\n",
       "      \n",
       "      <progress value='2296' max='2296' style='width:300px; height:20px; vertical-align: middle;'></progress>\n",
       "      [2296/2296 1:06:42, Epoch 2/2]\n",
       "    </div>\n",
       "    <table border=\"1\" class=\"dataframe\">\n",
       "  <thead>\n",
       " <tr style=\"text-align: left;\">\n",
       "      <th>Epoch</th>\n",
       "      <th>Training Loss</th>\n",
       "      <th>Validation Loss</th>\n",
       "    </tr>\n",
       "  </thead>\n",
       "  <tbody>\n",
       "    <tr>\n",
       "      <td>1</td>\n",
       "      <td>3.101900</td>\n",
       "      <td>2.858625</td>\n",
       "    </tr>\n",
       "    <tr>\n",
       "      <td>2</td>\n",
       "      <td>2.898200</td>\n",
       "      <td>2.846905</td>\n",
       "    </tr>\n",
       "  </tbody>\n",
       "</table><p>"
      ],
      "text/plain": [
       "<IPython.core.display.HTML object>"
      ]
     },
     "metadata": {},
     "output_type": "display_data"
    },
    {
     "data": {
      "text/plain": [
       "TrainOutput(global_step=2296, training_loss=2.961827002335924, metrics={'train_runtime': 4004.4243, 'train_samples_per_second': 18.339, 'train_steps_per_second': 0.573, 'total_flos': 9594120830976000.0, 'train_loss': 2.961827002335924, 'epoch': 2.0})"
      ]
     },
     "execution_count": 15,
     "metadata": {},
     "output_type": "execute_result"
    }
   ],
   "source": [
    "from transformers import Trainer, TrainingArguments, DataCollatorForLanguageModeling\n",
    "\n",
    "data_collator = DataCollatorForLanguageModeling(\n",
    "    tokenizer=tokenizer, mlm=False\n",
    ")\n",
    "\n",
    "training_args = TrainingArguments(\n",
    "    output_dir=\"./NWP_final_results\",\n",
    "    eval_strategy=\"epoch\",\n",
    "    num_train_epochs=2,\n",
    "    per_device_train_batch_size=4,\n",
    "    gradient_accumulation_steps=8,\n",
    "    learning_rate=5e-5,\n",
    "    fp16=True,\n",
    ")\n",
    "\n",
    "trainer = Trainer(\n",
    "    model=model,\n",
    "    args=training_args,\n",
    "    train_dataset=tokenized_dataset[\"train\"],\n",
    "    eval_dataset=tokenized_dataset[\"validation\"],\n",
    "    data_collator=data_collator,\n",
    ")\n",
    "\n",
    "trainer.train()"
   ]
  },
  {
   "cell_type": "code",
   "execution_count": 16,
   "id": "10afe790",
   "metadata": {},
   "outputs": [
    {
     "data": {
      "text/plain": [
       "('./gpt2-finetuned-nwp-final\\\\tokenizer_config.json',\n",
       " './gpt2-finetuned-nwp-final\\\\special_tokens_map.json',\n",
       " './gpt2-finetuned-nwp-final\\\\vocab.json',\n",
       " './gpt2-finetuned-nwp-final\\\\merges.txt',\n",
       " './gpt2-finetuned-nwp-final\\\\added_tokens.json',\n",
       " './gpt2-finetuned-nwp-final\\\\tokenizer.json')"
      ]
     },
     "execution_count": 16,
     "metadata": {},
     "output_type": "execute_result"
    }
   ],
   "source": [
    "model.save_pretrained(\"./gpt2-finetuned-nwp-final\")\n",
    "tokenizer.save_pretrained(\"./gpt2-finetuned-nwp-final\")"
   ]
  },
  {
   "cell_type": "code",
   "execution_count": null,
   "id": "55cee596",
   "metadata": {},
   "outputs": [],
   "source": [
    "from transformers import GPT2LMHeadModel, AutoTokenizer\n",
    "\n",
    "model = GPT2LMHeadModel.from_pretrained(\"./gpt2-finetuned-nwp-final\")\n",
    "tokenizer = AutoTokenizer.from_pretrained(\"./gpt2-finetuned-nwp-final\")\n",
    "model.eval() # Set model to evaluation mode"
   ]
  },
  {
   "cell_type": "code",
   "execution_count": null,
   "id": "ff0aa2e7",
   "metadata": {},
   "outputs": [],
   "source": [
    "test_ds = tokenized_dataset[\"test\"].shuffle(seed=42).range(100)  # Use a smaller subset for testing"
   ]
  },
  {
   "cell_type": "code",
   "execution_count": null,
   "id": "fc42c378",
   "metadata": {},
   "outputs": [],
   "source": [
    "from transformers import Trainer, TrainingArguments\n",
    "from transformers import DefaultDataCollator\n",
    "data_collator = DefaultDataCollator()\n",
    "\n",
    "training_args = TrainingArguments(output_dir=\"./dummy\", per_device_eval_batch_size=1, fp16=True, eval_accumulation_steps=8, remove_unused_columns=False)\n",
    "\n",
    "trainer = Trainer(\n",
    "    model=model,\n",
    "    args=training_args,\n",
    "    data_collator=data_collator,\n",
    ")\n",
    "\n",
    "# Predict on test set\n",
    "outputs = trainer.predict(test_ds)"
   ]
  },
  {
   "cell_type": "code",
   "execution_count": null,
   "id": "c9c9eaa0",
   "metadata": {},
   "outputs": [],
   "source": [
    "from sklearn.metrics import top_k_accuracy_score\n",
    "import torch\n",
    "import numpy as np\n",
    "import math\n",
    "from evaluate import load\n",
    "\n",
    "perplexity_metric = load(\"perplexity\")\n",
    "\n",
    "def compute_metrics(eval_pred):\n",
    "    logits, labels = eval_pred\n",
    "\n",
    "    # Shift so model predicts token t+1\n",
    "    shift_logits = torch.tensor(logits)[..., :-1, :].contiguous()\n",
    "    shift_labels = torch.tensor(labels)[..., 1:].contiguous()\n",
    "\n",
    "    # Flatten the tensors\n",
    "    shift_logits = shift_logits.view(-1, shift_logits.size(-1))\n",
    "    shift_labels = shift_labels.view(-1)\n",
    "\n",
    "    # Mask out padding\n",
    "    valid = shift_labels != -100\n",
    "    y_true = shift_labels[valid].numpy()\n",
    "    y_pred = shift_logits[valid].numpy()\n",
    "\n",
    "    # Perplexity (cross-entropy)\n",
    "    loss_fct = torch.nn.CrossEntropyLoss()\n",
    "    loss = loss_fct(torch.tensor(y_pred), torch.tensor(y_true))\n",
    "    perplexity = math.exp(loss.item())\n",
    "\n",
    "    # Top-k accuracy\n",
    "    topk_acc = top_k_accuracy_score(y_true, y_pred, k=5, labels=list(range(50257))) # GPT-2 vocab size is 50257\n",
    "\n",
    "    # perplexity\n",
    "\n",
    "    results = perplexity_metric.compute(predictions=y_pred, references=y_true)\n",
    "\n",
    "    return {\n",
    "        \"perplexity\": perplexity,\n",
    "        \"top5_accuracy\": topk_acc\n",
    "    }"
   ]
  },
  {
   "cell_type": "code",
   "execution_count": null,
   "id": "b84468b0",
   "metadata": {},
   "outputs": [],
   "source": [
    "assert outputs.predictions is not None, \"Predictions are None\"\n",
    "assert outputs.label_ids is not None, \"Label IDs are None\"\n",
    "metrics = compute_metrics((outputs.predictions, outputs.label_ids))\n",
    "print(\"Evaluation Metrics:\")\n",
    "for k, v in metrics.items():\n",
    "    print(f\"{k}: {v:.4f}\")\n"
   ]
  },
  {
   "cell_type": "code",
   "execution_count": null,
   "id": "87777d3f",
   "metadata": {},
   "outputs": [],
   "source": [
    "from evaluate import load\n",
    "\n",
    "perplexity = load(\"perplexity\")\n",
    "\n",
    "raw_test_texts = test_ds[\"text\"]\n",
    "\n",
    "raw_test_texts = [t for t in test_ds[\"text\"] if t.strip() != \"\"]\n",
    "\n",
    "results = perplexity.compute(\n",
    "    predictions=raw_test_texts,\n",
    "    model_id=\"./gpt2-finetuned-nwp-final\",\n",
    "    device=\"cpu\"\n",
    ")\n",
    "\n",
    "print(\"Perplexity:\", results[\"perplexity\"])"
   ]
  },
  {
   "cell_type": "code",
   "execution_count": null,
   "id": "e0fcb1af",
   "metadata": {},
   "outputs": [],
   "source": [
    "prompt = \"he is quite\"\n",
    "inputs = tokenizer(prompt, return_tensors=\"pt\").to(model.device)\n",
    "outputs = model.generate(inputs[\"input_ids\"], max_new_tokens=10)\n",
    "print(tokenizer.decode(outputs[0], skip_special_tokens=True))"
   ]
  }
 ],
 "metadata": {
  "kernelspec": {
   "display_name": "hf_env311",
   "language": "python",
   "name": "python3"
  },
  "language_info": {
   "codemirror_mode": {
    "name": "ipython",
    "version": 3
   },
   "file_extension": ".py",
   "mimetype": "text/x-python",
   "name": "python",
   "nbconvert_exporter": "python",
   "pygments_lexer": "ipython3",
   "version": "3.11.0"
  }
 },
 "nbformat": 4,
 "nbformat_minor": 5
}
